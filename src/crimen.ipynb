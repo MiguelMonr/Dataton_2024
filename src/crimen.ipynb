{
 "cells": [
  {
   "cell_type": "code",
   "execution_count": 3,
   "metadata": {},
   "outputs": [],
   "source": [
    "import pandas as pd\n"
   ]
  },
  {
   "cell_type": "code",
   "execution_count": 5,
   "metadata": {},
   "outputs": [
    {
     "data": {
      "text/html": [
       "<div>\n",
       "<style scoped>\n",
       "    .dataframe tbody tr th:only-of-type {\n",
       "        vertical-align: middle;\n",
       "    }\n",
       "\n",
       "    .dataframe tbody tr th {\n",
       "        vertical-align: top;\n",
       "    }\n",
       "\n",
       "    .dataframe thead th {\n",
       "        text-align: right;\n",
       "    }\n",
       "</style>\n",
       "<table border=\"1\" class=\"dataframe\">\n",
       "  <thead>\n",
       "    <tr style=\"text-align: right;\">\n",
       "      <th></th>\n",
       "      <th>ï»¿id</th>\n",
       "      <th>clee</th>\n",
       "      <th>nom_estab</th>\n",
       "      <th>nombre_act</th>\n",
       "      <th>per_ocu</th>\n",
       "      <th>nom_vial</th>\n",
       "      <th>cod_postal</th>\n",
       "      <th>entidad</th>\n",
       "      <th>municipio</th>\n",
       "      <th>localidad</th>\n",
       "    </tr>\n",
       "  </thead>\n",
       "  <tbody>\n",
       "    <tr>\n",
       "      <th>0</th>\n",
       "      <td>9331896</td>\n",
       "      <td>02005621111000441000000000U7</td>\n",
       "      <td>(H) CONSULTORIO ROSARITO, B.C.N.</td>\n",
       "      <td>Consultorios de medicina general del sector pr...</td>\n",
       "      <td>0 a 5 personas</td>\n",
       "      <td>NaN</td>\n",
       "      <td>NaN</td>\n",
       "      <td>BAJA CALIFORNIA</td>\n",
       "      <td>Playas de Rosarito</td>\n",
       "      <td>Playas de Rosarito</td>\n",
       "    </tr>\n",
       "    <tr>\n",
       "      <th>1</th>\n",
       "      <td>7622161</td>\n",
       "      <td>02004621111009891000000000S7</td>\n",
       "      <td>401 AL 404 VIDA NUEVA CLINICA</td>\n",
       "      <td>Consultorios de medicina general del sector pr...</td>\n",
       "      <td>0 a 5 personas</td>\n",
       "      <td>PASEO DE LOS HEROES</td>\n",
       "      <td>22320.0</td>\n",
       "      <td>BAJA CALIFORNIA</td>\n",
       "      <td>Tijuana</td>\n",
       "      <td>Tijuana</td>\n",
       "    </tr>\n",
       "    <tr>\n",
       "      <th>2</th>\n",
       "      <td>6930191</td>\n",
       "      <td>02002621113004551000000000U2</td>\n",
       "      <td>ACEVES CENTRO MEDICO</td>\n",
       "      <td>Consultorios de medicina especializada del sec...</td>\n",
       "      <td>0 a 5 personas</td>\n",
       "      <td>REFORMA</td>\n",
       "      <td>21100.0</td>\n",
       "      <td>BAJA CALIFORNIA</td>\n",
       "      <td>Mexicali</td>\n",
       "      <td>Mexicali</td>\n",
       "    </tr>\n",
       "    <tr>\n",
       "      <th>3</th>\n",
       "      <td>153819</td>\n",
       "      <td>02004621113001121001000000U3</td>\n",
       "      <td>ACNE FACIALES</td>\n",
       "      <td>Consultorios de medicina especializada del sec...</td>\n",
       "      <td>11 a 30 personas</td>\n",
       "      <td>RIO TIJUANA</td>\n",
       "      <td>22010.0</td>\n",
       "      <td>BAJA CALIFORNIA</td>\n",
       "      <td>Tijuana</td>\n",
       "      <td>Tijuana</td>\n",
       "    </tr>\n",
       "    <tr>\n",
       "      <th>4</th>\n",
       "      <td>121810</td>\n",
       "      <td>02004621111008491000000000U7</td>\n",
       "      <td>ACUPUNTURA Y MEXIBUSTION</td>\n",
       "      <td>Consultorios de medicina general del sector pr...</td>\n",
       "      <td>0 a 5 personas</td>\n",
       "      <td>FRANCISCO I. MADERO</td>\n",
       "      <td>22000.0</td>\n",
       "      <td>BAJA CALIFORNIA</td>\n",
       "      <td>Tijuana</td>\n",
       "      <td>Tijuana</td>\n",
       "    </tr>\n",
       "    <tr>\n",
       "      <th>...</th>\n",
       "      <td>...</td>\n",
       "      <td>...</td>\n",
       "      <td>...</td>\n",
       "      <td>...</td>\n",
       "      <td>...</td>\n",
       "      <td>...</td>\n",
       "      <td>...</td>\n",
       "      <td>...</td>\n",
       "      <td>...</td>\n",
       "      <td>...</td>\n",
       "    </tr>\n",
       "    <tr>\n",
       "      <th>17793</th>\n",
       "      <td>9339175</td>\n",
       "      <td>28038621113005511000000000U9</td>\n",
       "      <td>UROX</td>\n",
       "      <td>Consultorios de medicina especializada del sec...</td>\n",
       "      <td>0 a 5 personas</td>\n",
       "      <td>MIGUEL HIDALGO Y COSTILLA</td>\n",
       "      <td>NaN</td>\n",
       "      <td>TAMAULIPAS</td>\n",
       "      <td>Tampico</td>\n",
       "      <td>Tampico</td>\n",
       "    </tr>\n",
       "    <tr>\n",
       "      <th>17794</th>\n",
       "      <td>9348682</td>\n",
       "      <td>28038621113005631000000000U5</td>\n",
       "      <td>UROX</td>\n",
       "      <td>Consultorios de medicina especializada del sec...</td>\n",
       "      <td>0 a 5 personas</td>\n",
       "      <td>MIGUEL HIDALGO Y COSTILLA</td>\n",
       "      <td>NaN</td>\n",
       "      <td>TAMAULIPAS</td>\n",
       "      <td>Tampico</td>\n",
       "      <td>Tampico</td>\n",
       "    </tr>\n",
       "    <tr>\n",
       "      <th>17795</th>\n",
       "      <td>4118587</td>\n",
       "      <td>28032621113000321000000000U1</td>\n",
       "      <td>VIDEOENDOCOPISTA</td>\n",
       "      <td>Consultorios de medicina especializada del sec...</td>\n",
       "      <td>0 a 5 personas</td>\n",
       "      <td>SAN LUIS POTOSI</td>\n",
       "      <td>88630.0</td>\n",
       "      <td>TAMAULIPAS</td>\n",
       "      <td>Reynosa</td>\n",
       "      <td>Reynosa</td>\n",
       "    </tr>\n",
       "    <tr>\n",
       "      <th>17796</th>\n",
       "      <td>4119232</td>\n",
       "      <td>28032621113001522001000000U3</td>\n",
       "      <td>VISION LASER INTERNACIONAL S.A DE C.V</td>\n",
       "      <td>Consultorios de medicina especializada del sec...</td>\n",
       "      <td>11 a 30 personas</td>\n",
       "      <td>FRANCISCO I. MADERO</td>\n",
       "      <td>88500.0</td>\n",
       "      <td>TAMAULIPAS</td>\n",
       "      <td>Reynosa</td>\n",
       "      <td>Reynosa</td>\n",
       "    </tr>\n",
       "    <tr>\n",
       "      <th>17797</th>\n",
       "      <td>9286767</td>\n",
       "      <td>28032621113002951000000000U3</td>\n",
       "      <td>VITAL MEDIC INC</td>\n",
       "      <td>Consultorios de medicina especializada del sec...</td>\n",
       "      <td>0 a 5 personas</td>\n",
       "      <td>NINGUNO</td>\n",
       "      <td>88788.0</td>\n",
       "      <td>TAMAULIPAS</td>\n",
       "      <td>Reynosa</td>\n",
       "      <td>Reynosa</td>\n",
       "    </tr>\n",
       "  </tbody>\n",
       "</table>\n",
       "<p>17798 rows × 10 columns</p>\n",
       "</div>"
      ],
      "text/plain": [
       "         ï»¿id                          clee  \\\n",
       "0      9331896  02005621111000441000000000U7   \n",
       "1      7622161  02004621111009891000000000S7   \n",
       "2      6930191  02002621113004551000000000U2   \n",
       "3       153819  02004621113001121001000000U3   \n",
       "4       121810  02004621111008491000000000U7   \n",
       "...        ...                           ...   \n",
       "17793  9339175  28038621113005511000000000U9   \n",
       "17794  9348682  28038621113005631000000000U5   \n",
       "17795  4118587  28032621113000321000000000U1   \n",
       "17796  4119232  28032621113001522001000000U3   \n",
       "17797  9286767  28032621113002951000000000U3   \n",
       "\n",
       "                                   nom_estab  \\\n",
       "0           (H) CONSULTORIO ROSARITO, B.C.N.   \n",
       "1              401 AL 404 VIDA NUEVA CLINICA   \n",
       "2                       ACEVES CENTRO MEDICO   \n",
       "3                              ACNE FACIALES   \n",
       "4                   ACUPUNTURA Y MEXIBUSTION   \n",
       "...                                      ...   \n",
       "17793                                   UROX   \n",
       "17794                                   UROX   \n",
       "17795                       VIDEOENDOCOPISTA   \n",
       "17796  VISION LASER INTERNACIONAL S.A DE C.V   \n",
       "17797                        VITAL MEDIC INC   \n",
       "\n",
       "                                              nombre_act           per_ocu  \\\n",
       "0      Consultorios de medicina general del sector pr...    0 a 5 personas   \n",
       "1      Consultorios de medicina general del sector pr...    0 a 5 personas   \n",
       "2      Consultorios de medicina especializada del sec...    0 a 5 personas   \n",
       "3      Consultorios de medicina especializada del sec...  11 a 30 personas   \n",
       "4      Consultorios de medicina general del sector pr...    0 a 5 personas   \n",
       "...                                                  ...               ...   \n",
       "17793  Consultorios de medicina especializada del sec...    0 a 5 personas   \n",
       "17794  Consultorios de medicina especializada del sec...    0 a 5 personas   \n",
       "17795  Consultorios de medicina especializada del sec...    0 a 5 personas   \n",
       "17796  Consultorios de medicina especializada del sec...  11 a 30 personas   \n",
       "17797  Consultorios de medicina especializada del sec...    0 a 5 personas   \n",
       "\n",
       "                        nom_vial  cod_postal          entidad  \\\n",
       "0                            NaN         NaN  BAJA CALIFORNIA   \n",
       "1            PASEO DE LOS HEROES     22320.0  BAJA CALIFORNIA   \n",
       "2                        REFORMA     21100.0  BAJA CALIFORNIA   \n",
       "3                    RIO TIJUANA     22010.0  BAJA CALIFORNIA   \n",
       "4            FRANCISCO I. MADERO     22000.0  BAJA CALIFORNIA   \n",
       "...                          ...         ...              ...   \n",
       "17793  MIGUEL HIDALGO Y COSTILLA         NaN       TAMAULIPAS   \n",
       "17794  MIGUEL HIDALGO Y COSTILLA         NaN       TAMAULIPAS   \n",
       "17795            SAN LUIS POTOSI     88630.0       TAMAULIPAS   \n",
       "17796        FRANCISCO I. MADERO     88500.0       TAMAULIPAS   \n",
       "17797                    NINGUNO     88788.0       TAMAULIPAS   \n",
       "\n",
       "                municipio           localidad  \n",
       "0      Playas de Rosarito  Playas de Rosarito  \n",
       "1                 Tijuana             Tijuana  \n",
       "2                Mexicali            Mexicali  \n",
       "3                 Tijuana             Tijuana  \n",
       "4                 Tijuana             Tijuana  \n",
       "...                   ...                 ...  \n",
       "17793             Tampico             Tampico  \n",
       "17794             Tampico             Tampico  \n",
       "17795             Reynosa             Reynosa  \n",
       "17796             Reynosa             Reynosa  \n",
       "17797             Reynosa             Reynosa  \n",
       "\n",
       "[17798 rows x 10 columns]"
      ]
     },
     "execution_count": 5,
     "metadata": {},
     "output_type": "execute_result"
    }
   ],
   "source": [
    "#Pasando a shapefile\n",
    "df = pd.read_csv('TOTAL1.csv', encoding='latin1')\n",
    "df"
   ]
  },
  {
   "cell_type": "code",
   "execution_count": 9,
   "metadata": {},
   "outputs": [
    {
     "ename": "UnicodeDecodeError",
     "evalue": "'utf-8' codec can't decode byte 0xd3 in position 8: invalid continuation byte",
     "output_type": "error",
     "traceback": [
      "\u001b[0;31m---------------------------------------------------------------------------\u001b[0m",
      "\u001b[0;31mUnicodeDecodeError\u001b[0m                        Traceback (most recent call last)",
      "Cell \u001b[0;32mIn[9], line 1\u001b[0m\n\u001b[0;32m----> 1\u001b[0m df[\u001b[38;5;124m'\u001b[39m\u001b[38;5;124mentidad\u001b[39m\u001b[38;5;124m'\u001b[39m] \u001b[38;5;241m=\u001b[39m \u001b[43mdf\u001b[49m\u001b[43m[\u001b[49m\u001b[38;5;124;43m'\u001b[39;49m\u001b[38;5;124;43mentidad\u001b[39;49m\u001b[38;5;124;43m'\u001b[39;49m\u001b[43m]\u001b[49m\u001b[38;5;241;43m.\u001b[39;49m\u001b[43mapply\u001b[49m\u001b[43m(\u001b[49m\u001b[38;5;28;43;01mlambda\u001b[39;49;00m\u001b[43m \u001b[49m\u001b[43mx\u001b[49m\u001b[43m:\u001b[49m\u001b[43m \u001b[49m\u001b[43mx\u001b[49m\u001b[38;5;241;43m.\u001b[39;49m\u001b[43mencode\u001b[49m\u001b[43m(\u001b[49m\u001b[38;5;124;43m'\u001b[39;49m\u001b[38;5;124;43mlatin1\u001b[39;49m\u001b[38;5;124;43m'\u001b[39;49m\u001b[43m)\u001b[49m\u001b[38;5;241;43m.\u001b[39;49m\u001b[43mdecode\u001b[49m\u001b[43m(\u001b[49m\u001b[38;5;124;43m'\u001b[39;49m\u001b[38;5;124;43mutf-8\u001b[39;49m\u001b[38;5;124;43m'\u001b[39;49m\u001b[43m)\u001b[49m\u001b[38;5;241;43m.\u001b[39;49m\u001b[43mstrip\u001b[49m\u001b[43m(\u001b[49m\u001b[43m)\u001b[49m\u001b[43m)\u001b[49m\n",
      "File \u001b[0;32m/opt/anaconda3/envs/ApiMend/lib/python3.8/site-packages/pandas/core/series.py:4630\u001b[0m, in \u001b[0;36mSeries.apply\u001b[0;34m(self, func, convert_dtype, args, **kwargs)\u001b[0m\n\u001b[1;32m   4520\u001b[0m \u001b[38;5;28;01mdef\u001b[39;00m \u001b[38;5;21mapply\u001b[39m(\n\u001b[1;32m   4521\u001b[0m     \u001b[38;5;28mself\u001b[39m,\n\u001b[1;32m   4522\u001b[0m     func: AggFuncType,\n\u001b[0;32m   (...)\u001b[0m\n\u001b[1;32m   4525\u001b[0m     \u001b[38;5;241m*\u001b[39m\u001b[38;5;241m*\u001b[39mkwargs,\n\u001b[1;32m   4526\u001b[0m ) \u001b[38;5;241m-\u001b[39m\u001b[38;5;241m>\u001b[39m DataFrame \u001b[38;5;241m|\u001b[39m Series:\n\u001b[1;32m   4527\u001b[0m \u001b[38;5;250m    \u001b[39m\u001b[38;5;124;03m\"\"\"\u001b[39;00m\n\u001b[1;32m   4528\u001b[0m \u001b[38;5;124;03m    Invoke function on values of Series.\u001b[39;00m\n\u001b[1;32m   4529\u001b[0m \n\u001b[0;32m   (...)\u001b[0m\n\u001b[1;32m   4628\u001b[0m \u001b[38;5;124;03m    dtype: float64\u001b[39;00m\n\u001b[1;32m   4629\u001b[0m \u001b[38;5;124;03m    \"\"\"\u001b[39;00m\n\u001b[0;32m-> 4630\u001b[0m     \u001b[38;5;28;01mreturn\u001b[39;00m \u001b[43mSeriesApply\u001b[49m\u001b[43m(\u001b[49m\u001b[38;5;28;43mself\u001b[39;49m\u001b[43m,\u001b[49m\u001b[43m \u001b[49m\u001b[43mfunc\u001b[49m\u001b[43m,\u001b[49m\u001b[43m \u001b[49m\u001b[43mconvert_dtype\u001b[49m\u001b[43m,\u001b[49m\u001b[43m \u001b[49m\u001b[43margs\u001b[49m\u001b[43m,\u001b[49m\u001b[43m \u001b[49m\u001b[43mkwargs\u001b[49m\u001b[43m)\u001b[49m\u001b[38;5;241;43m.\u001b[39;49m\u001b[43mapply\u001b[49m\u001b[43m(\u001b[49m\u001b[43m)\u001b[49m\n",
      "File \u001b[0;32m/opt/anaconda3/envs/ApiMend/lib/python3.8/site-packages/pandas/core/apply.py:1025\u001b[0m, in \u001b[0;36mSeriesApply.apply\u001b[0;34m(self)\u001b[0m\n\u001b[1;32m   1022\u001b[0m     \u001b[38;5;28;01mreturn\u001b[39;00m \u001b[38;5;28mself\u001b[39m\u001b[38;5;241m.\u001b[39mapply_str()\n\u001b[1;32m   1024\u001b[0m \u001b[38;5;66;03m# self.f is Callable\u001b[39;00m\n\u001b[0;32m-> 1025\u001b[0m \u001b[38;5;28;01mreturn\u001b[39;00m \u001b[38;5;28;43mself\u001b[39;49m\u001b[38;5;241;43m.\u001b[39;49m\u001b[43mapply_standard\u001b[49m\u001b[43m(\u001b[49m\u001b[43m)\u001b[49m\n",
      "File \u001b[0;32m/opt/anaconda3/envs/ApiMend/lib/python3.8/site-packages/pandas/core/apply.py:1076\u001b[0m, in \u001b[0;36mSeriesApply.apply_standard\u001b[0;34m(self)\u001b[0m\n\u001b[1;32m   1074\u001b[0m     \u001b[38;5;28;01melse\u001b[39;00m:\n\u001b[1;32m   1075\u001b[0m         values \u001b[38;5;241m=\u001b[39m obj\u001b[38;5;241m.\u001b[39mastype(\u001b[38;5;28mobject\u001b[39m)\u001b[38;5;241m.\u001b[39m_values\n\u001b[0;32m-> 1076\u001b[0m         mapped \u001b[38;5;241m=\u001b[39m \u001b[43mlib\u001b[49m\u001b[38;5;241;43m.\u001b[39;49m\u001b[43mmap_infer\u001b[49m\u001b[43m(\u001b[49m\n\u001b[1;32m   1077\u001b[0m \u001b[43m            \u001b[49m\u001b[43mvalues\u001b[49m\u001b[43m,\u001b[49m\n\u001b[1;32m   1078\u001b[0m \u001b[43m            \u001b[49m\u001b[43mf\u001b[49m\u001b[43m,\u001b[49m\n\u001b[1;32m   1079\u001b[0m \u001b[43m            \u001b[49m\u001b[43mconvert\u001b[49m\u001b[38;5;241;43m=\u001b[39;49m\u001b[38;5;28;43mself\u001b[39;49m\u001b[38;5;241;43m.\u001b[39;49m\u001b[43mconvert_dtype\u001b[49m\u001b[43m,\u001b[49m\n\u001b[1;32m   1080\u001b[0m \u001b[43m        \u001b[49m\u001b[43m)\u001b[49m\n\u001b[1;32m   1082\u001b[0m \u001b[38;5;28;01mif\u001b[39;00m \u001b[38;5;28mlen\u001b[39m(mapped) \u001b[38;5;129;01mand\u001b[39;00m \u001b[38;5;28misinstance\u001b[39m(mapped[\u001b[38;5;241m0\u001b[39m], ABCSeries):\n\u001b[1;32m   1083\u001b[0m     \u001b[38;5;66;03m# GH#43986 Need to do list(mapped) in order to get treated as nested\u001b[39;00m\n\u001b[1;32m   1084\u001b[0m     \u001b[38;5;66;03m#  See also GH#25959 regarding EA support\u001b[39;00m\n\u001b[1;32m   1085\u001b[0m     \u001b[38;5;28;01mreturn\u001b[39;00m obj\u001b[38;5;241m.\u001b[39m_constructor_expanddim(\u001b[38;5;28mlist\u001b[39m(mapped), index\u001b[38;5;241m=\u001b[39mobj\u001b[38;5;241m.\u001b[39mindex)\n",
      "File \u001b[0;32m/opt/anaconda3/envs/ApiMend/lib/python3.8/site-packages/pandas/_libs/lib.pyx:2834\u001b[0m, in \u001b[0;36mpandas._libs.lib.map_infer\u001b[0;34m()\u001b[0m\n",
      "Cell \u001b[0;32mIn[9], line 1\u001b[0m, in \u001b[0;36m<lambda>\u001b[0;34m(x)\u001b[0m\n\u001b[0;32m----> 1\u001b[0m df[\u001b[38;5;124m'\u001b[39m\u001b[38;5;124mentidad\u001b[39m\u001b[38;5;124m'\u001b[39m] \u001b[38;5;241m=\u001b[39m df[\u001b[38;5;124m'\u001b[39m\u001b[38;5;124mentidad\u001b[39m\u001b[38;5;124m'\u001b[39m]\u001b[38;5;241m.\u001b[39mapply(\u001b[38;5;28;01mlambda\u001b[39;00m x: \u001b[43mx\u001b[49m\u001b[38;5;241;43m.\u001b[39;49m\u001b[43mencode\u001b[49m\u001b[43m(\u001b[49m\u001b[38;5;124;43m'\u001b[39;49m\u001b[38;5;124;43mlatin1\u001b[39;49m\u001b[38;5;124;43m'\u001b[39;49m\u001b[43m)\u001b[49m\u001b[38;5;241;43m.\u001b[39;49m\u001b[43mdecode\u001b[49m\u001b[43m(\u001b[49m\u001b[38;5;124;43m'\u001b[39;49m\u001b[38;5;124;43mutf-8\u001b[39;49m\u001b[38;5;124;43m'\u001b[39;49m\u001b[43m)\u001b[49m\u001b[38;5;241m.\u001b[39mstrip())\n",
      "\u001b[0;31mUnicodeDecodeError\u001b[0m: 'utf-8' codec can't decode byte 0xd3 in position 8: invalid continuation byte"
     ]
    }
   ],
   "source": [
    "df['entidad'] = df['entidad'].apply(lambda x: x.encode('latin1').decode('utf-8').strip())\n"
   ]
  },
  {
   "cell_type": "code",
   "execution_count": 11,
   "metadata": {},
   "outputs": [],
   "source": [
    "df['entidad'] = df['entidad'].str.strip()"
   ]
  },
  {
   "cell_type": "code",
   "execution_count": 12,
   "metadata": {},
   "outputs": [
    {
     "data": {
      "text/plain": [
       "array(['BAJA CALIFORNIA', 'BAJA CALIFORNIA SUR', 'CAMPECHE', 'CHIAPAS',\n",
       "       'CHIHUAHUA', 'NUEVO LEÓN', 'OAXACA', 'TABASCO', 'TAMAULIPAS'],\n",
       "      dtype=object)"
      ]
     },
     "execution_count": 12,
     "metadata": {},
     "output_type": "execute_result"
    }
   ],
   "source": [
    "df['entidad'].unique()"
   ]
  },
  {
   "cell_type": "code",
   "execution_count": 14,
   "metadata": {},
   "outputs": [],
   "source": [
    "df_bajas = df[(df['entidad'] == 'BAJA CALIFORNIA')]\n",
    "df_bajas_sur = df[df['entidad'] == 'BAJA CALIFORNIA SUR']\n",
    "df_campeche = df[df['entidad'] == 'CAMPECHE']\n",
    "df_chiapas = df[df['entidad'] == 'CHIAPAS']\n",
    "df_chihuahua = df[df['entidad'] == 'CHIHUAHUA']\n",
    "df_nuevo_leon = df[df['entidad'] == 'NUEVO LEON']\n",
    "df_oaxaca = df[df['entidad'] == 'OAXACA']\n",
    "df_tabasco = df[df['entidad'] == 'TABASCO']\n",
    "df_tamaulipas = df[df['entidad'] == 'TAMAULIPAS']"
   ]
  },
  {
   "cell_type": "code",
   "execution_count": 17,
   "metadata": {},
   "outputs": [
    {
     "name": "stderr",
     "output_type": "stream",
     "text": [
      "/var/folders/1_/0gj_v5x54fxd8gllt64jsbp80000gn/T/ipykernel_94324/3965793082.py:1: SettingWithCopyWarning: \n",
      "A value is trying to be set on a copy of a slice from a DataFrame.\n",
      "Try using .loc[row_indexer,col_indexer] = value instead\n",
      "\n",
      "See the caveats in the documentation: https://pandas.pydata.org/pandas-docs/stable/user_guide/indexing.html#returning-a-view-versus-a-copy\n",
      "  df_bajas['nombre_act'] = df_bajas['nombre_act'].str.encode('latin1').str.decode('utf-8').str.strip()\n",
      "/var/folders/1_/0gj_v5x54fxd8gllt64jsbp80000gn/T/ipykernel_94324/3965793082.py:2: SettingWithCopyWarning: \n",
      "A value is trying to be set on a copy of a slice from a DataFrame.\n",
      "Try using .loc[row_indexer,col_indexer] = value instead\n",
      "\n",
      "See the caveats in the documentation: https://pandas.pydata.org/pandas-docs/stable/user_guide/indexing.html#returning-a-view-versus-a-copy\n",
      "  df_bajas_sur['nombre_act'] = df_bajas_sur['nombre_act'].str.encode('latin1').str.decode('utf-8').str.strip()\n",
      "/var/folders/1_/0gj_v5x54fxd8gllt64jsbp80000gn/T/ipykernel_94324/3965793082.py:3: SettingWithCopyWarning: \n",
      "A value is trying to be set on a copy of a slice from a DataFrame.\n",
      "Try using .loc[row_indexer,col_indexer] = value instead\n",
      "\n",
      "See the caveats in the documentation: https://pandas.pydata.org/pandas-docs/stable/user_guide/indexing.html#returning-a-view-versus-a-copy\n",
      "  df_campeche['nombre_act'] = df_campeche['nombre_act'].str.encode('latin1').str.decode('utf-8').str.strip()\n",
      "/var/folders/1_/0gj_v5x54fxd8gllt64jsbp80000gn/T/ipykernel_94324/3965793082.py:4: SettingWithCopyWarning: \n",
      "A value is trying to be set on a copy of a slice from a DataFrame.\n",
      "Try using .loc[row_indexer,col_indexer] = value instead\n",
      "\n",
      "See the caveats in the documentation: https://pandas.pydata.org/pandas-docs/stable/user_guide/indexing.html#returning-a-view-versus-a-copy\n",
      "  df_chiapas['nombre_act'] = df_chiapas['nombre_act'].str.encode('latin1').str.decode('utf-8').str.strip()\n",
      "/var/folders/1_/0gj_v5x54fxd8gllt64jsbp80000gn/T/ipykernel_94324/3965793082.py:5: SettingWithCopyWarning: \n",
      "A value is trying to be set on a copy of a slice from a DataFrame.\n",
      "Try using .loc[row_indexer,col_indexer] = value instead\n",
      "\n",
      "See the caveats in the documentation: https://pandas.pydata.org/pandas-docs/stable/user_guide/indexing.html#returning-a-view-versus-a-copy\n",
      "  df_chihuahua['nombre_act'] = df_chihuahua['nombre_act'].str.encode('latin1').str.decode('utf-8').str.strip()\n",
      "/var/folders/1_/0gj_v5x54fxd8gllt64jsbp80000gn/T/ipykernel_94324/3965793082.py:7: SettingWithCopyWarning: \n",
      "A value is trying to be set on a copy of a slice from a DataFrame.\n",
      "Try using .loc[row_indexer,col_indexer] = value instead\n",
      "\n",
      "See the caveats in the documentation: https://pandas.pydata.org/pandas-docs/stable/user_guide/indexing.html#returning-a-view-versus-a-copy\n",
      "  df_oaxaca['nombre_act'] = df_oaxaca['nombre_act'].str.encode('latin1').str.decode('utf-8').str.strip()\n",
      "/var/folders/1_/0gj_v5x54fxd8gllt64jsbp80000gn/T/ipykernel_94324/3965793082.py:8: SettingWithCopyWarning: \n",
      "A value is trying to be set on a copy of a slice from a DataFrame.\n",
      "Try using .loc[row_indexer,col_indexer] = value instead\n",
      "\n",
      "See the caveats in the documentation: https://pandas.pydata.org/pandas-docs/stable/user_guide/indexing.html#returning-a-view-versus-a-copy\n",
      "  df_tabasco['nombre_act'] = df_tabasco['nombre_act'].str.encode('latin1').str.decode('utf-8').str.strip()\n",
      "/var/folders/1_/0gj_v5x54fxd8gllt64jsbp80000gn/T/ipykernel_94324/3965793082.py:9: SettingWithCopyWarning: \n",
      "A value is trying to be set on a copy of a slice from a DataFrame.\n",
      "Try using .loc[row_indexer,col_indexer] = value instead\n",
      "\n",
      "See the caveats in the documentation: https://pandas.pydata.org/pandas-docs/stable/user_guide/indexing.html#returning-a-view-versus-a-copy\n",
      "  df_tamaulipas['nombre_act'] = df_tamaulipas['nombre_act'].str.encode('latin1').str.decode('utf-8').str.strip()\n"
     ]
    }
   ],
   "source": [
    "df_bajas['nombre_act'] = df_bajas['nombre_act'].str.encode('latin1').str.decode('utf-8').str.strip()\n",
    "df_bajas_sur['nombre_act'] = df_bajas_sur['nombre_act'].str.encode('latin1').str.decode('utf-8').str.strip()\n",
    "df_campeche['nombre_act'] = df_campeche['nombre_act'].str.encode('latin1').str.decode('utf-8').str.strip()\n",
    "df_chiapas['nombre_act'] = df_chiapas['nombre_act'].str.encode('latin1').str.decode('utf-8').str.strip()\n",
    "df_chihuahua['nombre_act'] = df_chihuahua['nombre_act'].str.encode('latin1').str.decode('utf-8').str.strip()\n",
    "df_nuevo_leon['nombre_act'] = df_nuevo_leon['nombre_act'].str.encode('latin1').str.decode('utf-8').str.strip()\n",
    "df_oaxaca['nombre_act'] = df_oaxaca['nombre_act'].str.encode('latin1').str.decode('utf-8').str.strip()\n",
    "df_tabasco['nombre_act'] = df_tabasco['nombre_act'].str.encode('latin1').str.decode('utf-8').str.strip()\n",
    "df_tamaulipas['nombre_act'] = df_tamaulipas['nombre_act'].str.encode('latin1').str.decode('utf-8').str.strip()\n"
   ]
  },
  {
   "cell_type": "code",
   "execution_count": 28,
   "metadata": {},
   "outputs": [
    {
     "name": "stdout",
     "output_type": "stream",
     "text": [
      "Valores distintos 6\n",
      "Valores distintos 7\n",
      "Valores distintos 7\n",
      "Valores distintos 7\n",
      "Valores distintos 7\n",
      "Valores distintos 0\n",
      "Valores distintos de oaxaca 7\n",
      "Valores distintos 7\n",
      "Valores distintos 7\n"
     ]
    }
   ],
   "source": [
    "print(\"Valores distintos\",df_bajas[\"nombre_act\"].nunique())\n",
    "print(\"Valores distintos\",df_bajas_sur[\"nombre_act\"].nunique())\n",
    "print(\"Valores distintos\",df_campeche[\"nombre_act\"].nunique())\n",
    "print(\"Valores distintos\",df_chiapas[\"nombre_act\"].nunique())\n",
    "print(\"Valores distintos\",df_chihuahua[\"nombre_act\"].nunique())\n",
    "print(\"Valores distintos\",df_nuevo_leon[\"nombre_act\"].nunique())\n",
    "print(\"Valores distintos de oaxaca\",df_oaxaca[\"nombre_act\"].nunique())\n",
    "print(\"Valores distintos\",df_tabasco[\"nombre_act\"].nunique())\n",
    "print(\"Valores distintos\",df_tamaulipas[\"nombre_act\"].nunique())"
   ]
  },
  {
   "cell_type": "code",
   "execution_count": 30,
   "metadata": {},
   "outputs": [
    {
     "data": {
      "text/plain": [
       "Series([], Name: nombre_act, dtype: object)"
      ]
     },
     "execution_count": 30,
     "metadata": {},
     "output_type": "execute_result"
    }
   ],
   "source": [
    "df_nuevo_leon['nombre_act']  "
   ]
  },
  {
   "cell_type": "code",
   "execution_count": 32,
   "metadata": {},
   "outputs": [
    {
     "name": "stdout",
     "output_type": "stream",
     "text": [
      "Valores distintos ['Consultorios de medicina general del sector privado'\n",
      " 'Consultorios de medicina especializada del sector privado'\n",
      " 'Consultorios de medicina general del sector público'\n",
      " 'Clínicas de consultorios médicos del sector público'\n",
      " 'Clínicas de consultorios médicos del sector privado'\n",
      " 'Centros de planificación familiar del sector privado'\n",
      " 'Consultorios de medicina especializada del sector público']\n"
     ]
    }
   ],
   "source": [
    "print(\"Valores distintos\",df_tabasco[\"nombre_act\"].unique())"
   ]
  },
  {
   "cell_type": "code",
   "execution_count": 33,
   "metadata": {},
   "outputs": [],
   "source": [
    "df_bajas.to_csv('bajas.csv', index=False)\n",
    "df_bajas_sur.to_csv('bajas_sur.csv', index=False)\n",
    "df_campeche.to_csv('campeche.csv', index=False)\n",
    "df_chiapas.to_csv('chiapas.csv', index=False)\n",
    "df_chihuahua.to_csv('chihuahua.csv', index=False)\n",
    "df_nuevo_leon.to_csv('nuevo_leon.csv', index=False)\n",
    "df_oaxaca.to_csv('oaxaca.csv', index=False)\n",
    "df_tabasco.to_csv('tabasco.csv', index=False)"
   ]
  }
 ],
 "metadata": {
  "kernelspec": {
   "display_name": "base",
   "language": "python",
   "name": "python3"
  },
  "language_info": {
   "codemirror_mode": {
    "name": "ipython",
    "version": 3
   },
   "file_extension": ".py",
   "mimetype": "text/x-python",
   "name": "python",
   "nbconvert_exporter": "python",
   "pygments_lexer": "ipython3",
   "version": "3.8.19"
  }
 },
 "nbformat": 4,
 "nbformat_minor": 2
}
